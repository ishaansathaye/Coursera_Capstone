{
    "cells": [
        {
            "source": [
                "## The Battle of the Neighborhoods: Introduction/Business Problem"
            ],
            "cell_type": "markdown",
            "metadata": {
                "collapsed": true
            }
        },
        {
            "source": [
                "### Introduction & Business Problem :"
            ],
            "cell_type": "markdown",
            "metadata": {}
        },
        {
            "source": [
                "###  Problem Background:"
            ],
            "cell_type": "markdown",
            "metadata": {}
        },
        {
            "source": [
                "With the pandemic currently happening many populous cities are becoming prone to increasing numbers of cases. This is why Toronto and New York are becoming very dense with the number of cases. \n",
                "These cities are major places for tourism but with that stop the effect on the city is very drastic with businesses being the only thing that can go on with more restrictions on them as the cases nnumber goes up. Choosing two cities taht are pretty close together but also in different countries will give people a basic understanding of rules in both of these places and people are coping with the virus.\n",
                "\n",
                "Analyzing the data of the most visited business places and venues will give an understanding of how the virus has effected these two populous cities. In doing so, the effect can show people that businesses located in certain areas are more prone to getting diseases and so it will tell more people to not go in that area or even tell people who want to open up a shop to choose carefully."
            ],
            "cell_type": "markdown",
            "metadata": {}
        },
        {
            "source": [
                "###  Problem Description:"
            ],
            "cell_type": "markdown",
            "metadata": {}
        },
        {
            "source": [
                "A restaurant is a business which prepares and serves food and drink to customers in return for money, either paid before the meal, after the meal, or with an open account. The City of New York is famous for its excelllent cuisine. It's food culture includes an array of international cuisines influenced by the city's immigrant history.<Br> \n",
                "1. Central and Eastern European immigrants, especially Jewish immigrants - bagels, cheesecake, hot dogs, knishes, and delicatessens<Br> \n",
                "2. Italian immigrants - New York-style pizza and Italian cuisine<Br>\n",
                "3. Jewish immigrants and Irish immigrants - pastrami and corned beef<Br>\n",
                "4. Chinese and other Asian restaurants, sandwich joints, trattorias, diners, and coffeehouses are ubiquitous throughout the city<Br>\n",
                "5. mobile food vendors - Some 4,000 licensed by the city<Br>\n",
                "6. Middle Eastern foods such as falafel and kebabs examples of modern New York street food<Br>\n",
                "7. It is famous for not just Pizzerias, Cafe's but also for fine dining Michelin starred restaurants.The city is home to \"nearly one thousand of the finest and most diverse haute cuisine restaurants in the world\", according to Michelin. \n",
                "\n",
                "So it is evident that to survive in such competitive market it is very important to startegically plan. Various factors need to be studied inorder to decide on the Location such as : <Br>\n",
                "1. New York Population <Br>\n",
                "2. New York City Demographics <Br>\n",
                "2. Are there any Farmers Markets, Wholesale markets etc nearby so that the ingredients can be purchased fresh to maintain quality and cost?<Br>\n",
                "3. Are there any venues like Gyms, Entertainmnet zones, Parks etc nearby where floating population is high etc <Br>\n",
                "4. Who are the competitors in that location? <Br>\n",
                "5. Cuisine served / Menu of the competitors <Br>\n",
                "6. Segmentation of the Borough <Br>\n",
                "7. Untapped markets <Br>\n",
                "8. Saturated markets etc<Br>\n",
                "The list can go on...\n",
                "    \n",
                "Eventhough well funded XYZ Company Ltd. need to choose the correct location to start its first venture.If this is successful they can replicate the same in other locations. First move is very important, thereby choice of location is very important."
            ],
            "cell_type": "markdown",
            "metadata": {}
        },
        {
            "source": [
                "### Target Audience:"
            ],
            "cell_type": "markdown",
            "metadata": {}
        },
        {
            "source": [
                "The objective is to locate and recommend places during the quaranitne of places to go and places to avoid.\n",
                "\n",
                "This would interest anybody at this point due to the fact that the pandemic has changed everybody's lives and ultimately changed our lifestyle. "
            ],
            "cell_type": "markdown",
            "metadata": {}
        },
        {
            "source": [
                "###  Success Criteria:"
            ],
            "cell_type": "markdown",
            "metadata": {}
        },
        {
            "source": [
                "The success criteria of the project will demostrate the success of businesses and for people to get a good idea of where to go during the pandemic and how it has impacted the businesses and popular venues around these major cities."
            ],
            "cell_type": "markdown",
            "metadata": {}
        }
    ],
    "metadata": {
        "kernelspec": {
            "display_name": "Python 3.5",
            "name": "python3",
            "language": "python"
        },
        "language_info": {
            "mimetype": "text/x-python",
            "nbconvert_exporter": "python",
            "version": "3.5.5",
            "name": "python",
            "file_extension": ".py",
            "pygments_lexer": "ipython3",
            "codemirror_mode": {
                "version": 3,
                "name": "ipython"
            }
        }
    },
    "nbformat": 4,
    "nbformat_minor": 1
}