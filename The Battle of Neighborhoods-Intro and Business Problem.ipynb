{
    "cells": [
        {
            "source": [
                "## The Battle of the Neighborhoods: Introduction/Business Problem"
            ],
            "cell_type": "markdown",
            "metadata": {
                "collapsed": true
            }
        },
        {
            "source": [
                "### Introduction & Business Problem :"
            ],
            "cell_type": "markdown",
            "metadata": {}
        },
        {
            "source": [
                "###  Problem Background:"
            ],
            "cell_type": "markdown",
            "metadata": {}
        },
        {
            "source": [
                "With the pandemic currently happening many populous cities are becoming prone to increasing numbers of cases. This is why Toronto and New York are becoming very dense with the number of cases. \n",
                "These cities are major places for tourism but with that stop the effect on the city is very drastic with businesses being the only thing that can go on with more restrictions on them as the cases nnumber goes up. Choosing two cities taht are pretty close together but also in different countries will give people a basic understanding of rules in both of these places and people are coping with the virus.\n",
                "\n",
                "Analyzing the data of the most visited business places and venues will give an understanding of how the virus has effected these two populous cities. In doing so, the effect can show people that businesses located in certain areas are more prone to getting diseases and so it will tell more people to not go in that area or even tell people who want to open up a shop to choose carefully."
            ],
            "cell_type": "markdown",
            "metadata": {}
        },
        {
            "source": [
                "###  Problem Description:"
            ],
            "cell_type": "markdown",
            "metadata": {}
        },
        {
            "source": [
                "Coronavirus has impacted many businesses especially because of how people are not allowed to go outside, and because of that the cities have been impacted the most. Doing analysis on this will make sure that places are scouted properly of the common places and places that dont have good reviews as of Foursquare."
            ],
            "cell_type": "markdown",
            "metadata": {}
        },
        {
            "source": [
                "### Target Audience:"
            ],
            "cell_type": "markdown",
            "metadata": {}
        },
        {
            "cell_type": "markdown",
            "metadata": {},
            "source": [
                "The objective is to locate and recommend places during the quaranitne of places to go and places to avoid.\n",
                "\n",
                "This would interest anybody at this point due to the fact that the pandemic has changed everybody's lives and ultimately changed our lifestyle. "
            ]
        },
        {
            "source": [
                "###  Success Criteria:"
            ],
            "cell_type": "markdown",
            "metadata": {}
        },
        {
            "source": [
                "The success criteria of the project will demostrate the success of businesses and for people to get a good idea of where to go during the pandemic and how it has impacted the businesses and popular venues around these major cities."
            ],
            "cell_type": "markdown",
            "metadata": {}
        }
    ],
    "metadata": {
        "kernelspec": {
            "display_name": "Python 3.5",
            "name": "python3",
            "language": "python"
        },
        "language_info": {
            "mimetype": "text/x-python",
            "nbconvert_exporter": "python",
            "version": "3.5.5",
            "name": "python",
            "file_extension": ".py",
            "pygments_lexer": "ipython3",
            "codemirror_mode": {
                "version": 3,
                "name": "ipython"
            }
        }
    },
    "nbformat": 4,
    "nbformat_minor": 1
}