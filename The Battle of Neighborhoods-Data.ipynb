{
    "cells": [
        {
            "source": [
                "## The Battle of the Neighborhoods: Data"
            ],
            "cell_type": "markdown",
            "metadata": {
                "collapsed": true
            }
        },
        {
            "source": [
                "### Data :"
            ],
            "cell_type": "markdown",
            "metadata": {}
        },
        {
            "source": [
                "Two places will be analysed in this project : ***Newyork City*** and **Toronto**. \n",
                "\n",
                "We will be using the below datasets for analysing Newyork city"
            ],
            "cell_type": "markdown",
            "metadata": {}
        },
        {
            "source": [
                "***Data 1 :*** \n",
                "Neighborhood has a total of 5 boroughs and 306 neighborhoods. In order to segement the neighborhoods and explore them, we will essentially need a dataset that contains the 5 boroughs and the neighborhoods that exist in each borough as well as the the latitude and logitude coordinates of each neighborhood. The dataset is of the borroughs and neighborhoods in New York"
            ],
            "cell_type": "markdown",
            "metadata": {}
        },
        {
            "source": [
                "***Data 2 :*** For the below analysis we will get data from wikipedia as given below which is the table of the neighborhoods with the postal codes of postal codes of Canda.\n",
                "    \n",
                "https://en.wikipedia.org/wiki/List_of_postal_codes_of_Canada:_M"
            ],
            "cell_type": "markdown",
            "metadata": {}
        }
    ],
    "metadata": {
        "kernelspec": {
            "display_name": "Python 3.5",
            "name": "python3",
            "language": "python"
        },
        "language_info": {
            "mimetype": "text/x-python",
            "nbconvert_exporter": "python",
            "version": "3.5.5",
            "name": "python",
            "file_extension": ".py",
            "pygments_lexer": "ipython3",
            "codemirror_mode": {
                "version": 3,
                "name": "ipython"
            }
        }
    },
    "nbformat": 4,
    "nbformat_minor": 1
}